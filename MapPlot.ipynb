{
 "cells": [
  {
   "cell_type": "code",
   "execution_count": 4,
   "metadata": {},
   "outputs": [
    {
     "data": {
      "text/html": [
       "<style>.container { width:100% !important; }</style>"
      ],
      "text/plain": [
       "<IPython.core.display.HTML object>"
      ]
     },
     "metadata": {},
     "output_type": "display_data"
    }
   ],
   "source": [
    "import pickle\n",
    "from matplotlib import pyplot\n",
    "from matplotlib import colors\n",
    "import ipywidgets\n",
    "from ipywidgets import Layout, interact, IntSlider\n",
    "from IPython.display import display, HTML\n",
    "display(HTML(\"<style>.container { width:100% !important; }</style>\"))"
   ]
  },
  {
   "cell_type": "code",
   "execution_count": 5,
   "metadata": {},
   "outputs": [],
   "source": [
    "with open(\"map_hour13.pickle\", \"rb\") as handle:\n",
    "    maps_loaded = pickle.load(handle)\n",
    "\n",
    "# map_load = maps_loaded[\"map0\"]\n",
    "time_list = tuple(maps_loaded.keys())\n",
    "map_list = list(maps_loaded.values())\n",
    "\n",
    "# print(time_list)\n",
    "colormap = colors.ListedColormap([\"white\", \"grey\", \"blue\", \"red\"])\n",
    "\n",
    "\n",
    "def plot_map(t):\n",
    "    pyplot.imshow(map_list[time_list.index(t)], cmap=colormap)\n",
    "    # pyplot.show()\n"
   ]
  },
  {
   "cell_type": "code",
   "execution_count": 6,
   "metadata": {},
   "outputs": [
    {
     "data": {
      "application/vnd.jupyter.widget-view+json": {
       "model_id": "b15811dfac8641fa9698dfc3f90515fe",
       "version_major": 2,
       "version_minor": 0
      },
      "text/plain": [
       "interactive(children=(FloatSlider(value=52200.4, description='t', max=54000.8, min=50401.4, step=1.4), Output(…"
      ]
     },
     "metadata": {},
     "output_type": "display_data"
    },
    {
     "data": {
      "text/plain": [
       "<function __main__.plot_map(t)>"
      ]
     },
     "execution_count": 6,
     "metadata": {},
     "output_type": "execute_result"
    }
   ],
   "source": [
    "t_ini = time_list[0]\n",
    "t_end = time_list[-1]\n",
    "ipywidgets.interact(plot_map, t=(t_ini, t_end, 1.4))"
   ]
  }
 ],
 "metadata": {
  "kernelspec": {
   "display_name": "Python 3",
   "language": "python",
   "name": "python3"
  },
  "language_info": {
   "codemirror_mode": {
    "name": "ipython",
    "version": 3
   },
   "file_extension": ".py",
   "mimetype": "text/x-python",
   "name": "python",
   "nbconvert_exporter": "python",
   "pygments_lexer": "ipython3",
   "version": "3.10.11"
  },
  "orig_nbformat": 4,
  "vscode": {
   "interpreter": {
    "hash": "9a1ba2dad67d7c94e5f2c5cd753f0f2f168a0565926a13672214fb11650a9450"
   }
  }
 },
 "nbformat": 4,
 "nbformat_minor": 2
}
